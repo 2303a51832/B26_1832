{
  "nbformat": 4,
  "nbformat_minor": 0,
  "metadata": {
    "colab": {
      "provenance": [],
      "include_colab_link": true
    },
    "kernelspec": {
      "name": "python3",
      "display_name": "Python 3"
    },
    "language_info": {
      "name": "python"
    }
  },
  "cells": [
    {
      "cell_type": "markdown",
      "metadata": {
        "id": "view-in-github",
        "colab_type": "text"
      },
      "source": [
        "<a href=\"https://colab.research.google.com/github/2303a51832/B26_1832/blob/main/Lab_02_1.ipynb\" target=\"_parent\"><img src=\"https://colab.research.google.com/assets/colab-badge.svg\" alt=\"Open In Colab\"/></a>"
      ]
    },
    {
      "cell_type": "code",
      "execution_count": null,
      "metadata": {
        "id": "qaTQ3u_Z34U5"
      },
      "outputs": [],
      "source": [
        "import numpy as np\n",
        "import pandas as pd"
      ]
    },
    {
      "cell_type": "code",
      "source": [
        "temperature = np.array([26,27,29,30,32,31,29,28,27,29,26,23])\n",
        "print(\"12 Monthly temperature values are :\",temperature)"
      ],
      "metadata": {
        "colab": {
          "base_uri": "https://localhost:8080/"
        },
        "id": "P_n5O9L_4UHU",
        "outputId": "da035cef-bfb4-42d9-dd2d-df03bfc96611"
      },
      "execution_count": null,
      "outputs": [
        {
          "output_type": "stream",
          "name": "stdout",
          "text": [
            "12 Monthly temperature values are : [26 27 29 30 32 31 29 28 27 29 26 23]\n"
          ]
        }
      ]
    },
    {
      "cell_type": "code",
      "source": [
        "avg_temp=np.average(temperature)\n",
        "print(\"Average temperature is :\",avg_temp)"
      ],
      "metadata": {
        "colab": {
          "base_uri": "https://localhost:8080/"
        },
        "id": "CuLQAnmV4_R-",
        "outputId": "bb53db36-3c00-448c-d4c6-8387cb8a9ff0"
      },
      "execution_count": null,
      "outputs": [
        {
          "output_type": "stream",
          "name": "stdout",
          "text": [
            "Average temperature is : 28.083333333333332\n"
          ]
        }
      ]
    },
    {
      "cell_type": "code",
      "source": [
        "hottest_month = np.argmax(temperature)\n",
        "coldest_month = np.argmin(temperature)\n",
        "print(\"Hottest month is :\",hottest_month+1)\n",
        "print(\"Coldest month is :\",coldest_month+1)"
      ],
      "metadata": {
        "colab": {
          "base_uri": "https://localhost:8080/"
        },
        "id": "a3WVhCYf5PDl",
        "outputId": "6293e3e7-8683-479f-bd1e-743d98cb1fc4"
      },
      "execution_count": null,
      "outputs": [
        {
          "output_type": "stream",
          "name": "stdout",
          "text": [
            "Hottest month is : 5\n",
            "Coldest month is : 12\n"
          ]
        }
      ]
    },
    {
      "cell_type": "code",
      "source": [
        "normalized_temps = (temperature - np.min(temperature)) / (np.max(temperature) - np.min(temperature))\n",
        "print(\"Normalized Temperatures:\",normalized_temps)"
      ],
      "metadata": {
        "colab": {
          "base_uri": "https://localhost:8080/"
        },
        "id": "7VtfkaTh5n0N",
        "outputId": "3369cc01-0a2a-4aaf-fac9-e989d54f1c78"
      },
      "execution_count": null,
      "outputs": [
        {
          "output_type": "stream",
          "name": "stdout",
          "text": [
            "Normalized Temperatures: [0.33333333 0.44444444 0.66666667 0.77777778 1.         0.88888889\n",
            " 0.66666667 0.55555556 0.44444444 0.66666667 0.33333333 0.        ]\n"
          ]
        }
      ]
    },
    {
      "cell_type": "code",
      "source": [
        "months_above_avg = temperature > avg_temp\n",
        "print(\"Number of months above average:\",months_above_avg)"
      ],
      "metadata": {
        "colab": {
          "base_uri": "https://localhost:8080/"
        },
        "id": "ZsnRRb4n6p5z",
        "outputId": "67ab2e14-335a-4bbf-baf0-2fb620cf7ed3"
      },
      "execution_count": null,
      "outputs": [
        {
          "output_type": "stream",
          "name": "stdout",
          "text": [
            "Number of months above average: [False False  True  True  True  True  True False False  True False False]\n"
          ]
        }
      ]
    },
    {
      "cell_type": "code",
      "source": [
        "monthly_temp_farenheit = (temperature * 9/5) + 32\n",
        "print(\"Temperatures in Fahrenheit:\",monthly_temp_farenheit)"
      ],
      "metadata": {
        "colab": {
          "base_uri": "https://localhost:8080/"
        },
        "id": "a3MZK0MX7L2I",
        "outputId": "f18366a5-1a08-4e86-f8d5-081cc5e233dc"
      },
      "execution_count": null,
      "outputs": [
        {
          "output_type": "stream",
          "name": "stdout",
          "text": [
            "Temperatures in Fahrenheit: [78.8 80.6 84.2 86.  89.6 87.8 84.2 82.4 80.6 84.2 78.8 73.4]\n"
          ]
        }
      ]
    }
  ]
}