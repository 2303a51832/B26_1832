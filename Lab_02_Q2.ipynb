{
  "nbformat": 4,
  "nbformat_minor": 0,
  "metadata": {
    "colab": {
      "provenance": [],
      "include_colab_link": true
    },
    "kernelspec": {
      "name": "python3",
      "display_name": "Python 3"
    },
    "language_info": {
      "name": "python"
    }
  },
  "cells": [
    {
      "cell_type": "markdown",
      "metadata": {
        "id": "view-in-github",
        "colab_type": "text"
      },
      "source": [
        "<a href=\"https://colab.research.google.com/github/2303a51832/B26_1832/blob/main/Lab_02_Q2.ipynb\" target=\"_parent\"><img src=\"https://colab.research.google.com/assets/colab-badge.svg\" alt=\"Open In Colab\"/></a>"
      ]
    },
    {
      "cell_type": "code",
      "execution_count": null,
      "metadata": {
        "id": "RG2fG9RQ9RV8"
      },
      "outputs": [],
      "source": [
        "import numpy as np\n",
        "import pandas as pd"
      ]
    },
    {
      "cell_type": "code",
      "source": [
        "data={\n",
        "    'Order_id':[101,201,301,401,501],\n",
        "    'Product' : ['Laptop','Mouse','Key board','Monitor','CPU'],\n",
        "    'Quantity': [1,5,3,2,1],\n",
        "    'Price' : [75000,500,1500,12000,20000],\n",
        "}\n",
        "df=pd.DataFrame(data)\n",
        "print(df)"
      ],
      "metadata": {
        "colab": {
          "base_uri": "https://localhost:8080/"
        },
        "id": "0vX65tHA9zm2",
        "outputId": "bba7423a-4c72-4063-de93-e5384ee5aa44"
      },
      "execution_count": null,
      "outputs": [
        {
          "output_type": "stream",
          "name": "stdout",
          "text": [
            "   Order_id    Product  Quantity  Price\n",
            "0       101     Laptop         1  75000\n",
            "1       201      Mouse         5    500\n",
            "2       301  Key board         3   1500\n",
            "3       401    Monitor         2  12000\n",
            "4       501        CPU         1  20000\n"
          ]
        }
      ]
    },
    {
      "cell_type": "code",
      "source": [
        "total_sales_per_order=df['Quantity']*df['Price']\n",
        "df['total_sales_per_order']=total_sales_per_order\n",
        "print(df)"
      ],
      "metadata": {
        "colab": {
          "base_uri": "https://localhost:8080/"
        },
        "id": "wY4tRVWV_Cvp",
        "outputId": "b6484be2-806c-4c70-b2ff-7ebe6b587c2f"
      },
      "execution_count": null,
      "outputs": [
        {
          "output_type": "stream",
          "name": "stdout",
          "text": [
            "   Order_id    Product  Quantity  Price  total_sales_per_order\n",
            "0       101     Laptop         1  75000                  75000\n",
            "1       201      Mouse         5    500                   2500\n",
            "2       301  Key board         3   1500                   4500\n",
            "3       401    Monitor         2  12000                  24000\n",
            "4       501        CPU         1  20000                  20000\n"
          ]
        }
      ]
    },
    {
      "cell_type": "code",
      "source": [
        "high_value_orders = df[df['total_sales_per_order'] > 1000]\n",
        "print(high_value_orders)"
      ],
      "metadata": {
        "colab": {
          "base_uri": "https://localhost:8080/"
        },
        "id": "CtYfuxGx_nU1",
        "outputId": "17f00384-eb2c-4a93-adc2-f8375eebbf00"
      },
      "execution_count": null,
      "outputs": [
        {
          "output_type": "stream",
          "name": "stdout",
          "text": [
            "   Order_id    Product  Quantity  Price  total_sales_per_order\n",
            "0       101     Laptop         1  75000                  75000\n",
            "1       201      Mouse         5    500                   2500\n",
            "2       301  Key board         3   1500                   4500\n",
            "3       401    Monitor         2  12000                  24000\n",
            "4       501        CPU         1  20000                  20000\n"
          ]
        }
      ]
    },
    {
      "cell_type": "code",
      "source": [
        "most_sold_product = df.groupby('Product')['Quantity'].sum().idxmax()\n",
        "print(most_sold_product)"
      ],
      "metadata": {
        "colab": {
          "base_uri": "https://localhost:8080/"
        },
        "id": "KucfHr82AFkC",
        "outputId": "3d3d2a61-bd83-4909-e593-f5c8d7df9bcf"
      },
      "execution_count": null,
      "outputs": [
        {
          "output_type": "stream",
          "name": "stdout",
          "text": [
            "Mouse\n"
          ]
        }
      ]
    },
    {
      "cell_type": "code",
      "source": [
        "df['Discount']=df['total_sales_per_order']*0.2\n",
        "print(df)"
      ],
      "metadata": {
        "colab": {
          "base_uri": "https://localhost:8080/"
        },
        "id": "qW07KDAwAi3n",
        "outputId": "842a3441-8336-48fb-c3b2-ca6f10bdccb0"
      },
      "execution_count": null,
      "outputs": [
        {
          "output_type": "stream",
          "name": "stdout",
          "text": [
            "   Order_id    Product  Quantity  Price  total_sales_per_order  Discount\n",
            "0       101     Laptop         1  75000                  75000   15000.0\n",
            "1       201      Mouse         5    500                   2500     500.0\n",
            "2       301  Key board         3   1500                   4500     900.0\n",
            "3       401    Monitor         2  12000                  24000    4800.0\n",
            "4       501        CPU         1  20000                  20000    4000.0\n"
          ]
        }
      ]
    }
  ]
}