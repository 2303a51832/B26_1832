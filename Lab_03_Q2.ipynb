{
  "nbformat": 4,
  "nbformat_minor": 0,
  "metadata": {
    "colab": {
      "provenance": [],
      "include_colab_link": true
    },
    "kernelspec": {
      "name": "python3",
      "display_name": "Python 3"
    },
    "language_info": {
      "name": "python"
    }
  },
  "cells": [
    {
      "cell_type": "markdown",
      "metadata": {
        "id": "view-in-github",
        "colab_type": "text"
      },
      "source": [
        "<a href=\"https://colab.research.google.com/github/2303a51832/B26_1832/blob/main/Lab_03_Q2.ipynb\" target=\"_parent\"><img src=\"https://colab.research.google.com/assets/colab-badge.svg\" alt=\"Open In Colab\"/></a>"
      ]
    },
    {
      "cell_type": "code",
      "source": [
        "import numpy as np\n",
        "import matplotlib.pyplot as plt"
      ],
      "metadata": {
        "id": "t52JmzK1Bgvg"
      },
      "execution_count": null,
      "outputs": []
    },
    {
      "cell_type": "code",
      "source": [
        "np.random.seed(42)\n",
        "image = np.random.randint(0, 256, size=(3, 3, 3), dtype=np.uint8)\n",
        "print(\"Original RGB Image Array:\\n\", image)"
      ],
      "metadata": {
        "colab": {
          "base_uri": "https://localhost:8080/"
        },
        "id": "vHn0kkk7Bkos",
        "outputId": "c951af3b-3f81-44b5-8a85-ae47dd681ec3"
      },
      "execution_count": null,
      "outputs": [
        {
          "output_type": "stream",
          "name": "stdout",
          "text": [
            "Original RGB Image Array:\n",
            " [[[102 220 225]\n",
            "  [ 95 179  61]\n",
            "  [234 203  92]]\n",
            "\n",
            " [[  3  98 243]\n",
            "  [ 14 149 245]\n",
            "  [ 46 106 244]]\n",
            "\n",
            " [[ 99 187  71]\n",
            "  [212 153 199]\n",
            "  [188 174  65]]]\n"
          ]
        }
      ]
    },
    {
      "cell_type": "code",
      "source": [
        "red_channel = image[:, :, 0]\n",
        "green_channel = image[:, :, 1]\n",
        "blue_channel = image[:, :, 2]\n",
        "\n",
        "print(\"\\nRed Channel:\\n\", red_channel)\n",
        "print(\"\\nGreen Channel:\\n\", green_channel)\n",
        "print(\"\\nBlue Channel:\\n\", blue_channel)"
      ],
      "metadata": {
        "colab": {
          "base_uri": "https://localhost:8080/"
        },
        "id": "_PudNIu_BsFP",
        "outputId": "a30784d3-d92d-4e1d-f726-3c8038d4c7a4"
      },
      "execution_count": null,
      "outputs": [
        {
          "output_type": "stream",
          "name": "stdout",
          "text": [
            "\n",
            "Red Channel:\n",
            " [[102  95 234]\n",
            " [  3  14  46]\n",
            " [ 99 212 188]]\n",
            "\n",
            "Green Channel:\n",
            " [[220 179 203]\n",
            " [ 98 149 106]\n",
            " [187 153 174]]\n",
            "\n",
            "Blue Channel:\n",
            " [[225  61  92]\n",
            " [243 245 244]\n",
            " [ 71 199  65]]\n"
          ]
        }
      ]
    },
    {
      "cell_type": "code",
      "source": [
        "avg_red = np.mean(red_channel)\n",
        "avg_green = np.mean(green_channel)\n",
        "avg_blue = np.mean(blue_channel)\n",
        "\n",
        "print(\"\\nAverage Intensities - Red:\", avg_red, \"Green:\", avg_green, \"Blue:\", avg_blue)"
      ],
      "metadata": {
        "colab": {
          "base_uri": "https://localhost:8080/"
        },
        "id": "F0xvs3VRBxT4",
        "outputId": "2a5fcc13-2ea0-47b0-b31d-e8c35e9d13ae"
      },
      "execution_count": null,
      "outputs": [
        {
          "output_type": "stream",
          "name": "stdout",
          "text": [
            "\n",
            "Average Intensities - Red: 110.33333333333333 Green: 163.22222222222223 Blue: 160.55555555555554\n"
          ]
        }
      ]
    },
    {
      "cell_type": "code",
      "source": [
        "brightened_image = np.clip(image + 50, 0, 255)\n",
        "print(\"\\nBrightened Image Array:\\n\", brightened_image)"
      ],
      "metadata": {
        "colab": {
          "base_uri": "https://localhost:8080/"
        },
        "id": "sqCstXU8B5fy",
        "outputId": "7c2740a9-5be6-4a78-aa16-525ca3062e12"
      },
      "execution_count": null,
      "outputs": [
        {
          "output_type": "stream",
          "name": "stdout",
          "text": [
            "\n",
            "Brightened Image Array:\n",
            " [[[152  14  19]\n",
            "  [145 229 111]\n",
            "  [ 28 253 142]]\n",
            "\n",
            " [[ 53 148  37]\n",
            "  [ 64 199  39]\n",
            "  [ 96 156  38]]\n",
            "\n",
            " [[149 237 121]\n",
            "  [  6 203 249]\n",
            "  [238 224 115]]]\n"
          ]
        }
      ]
    },
    {
      "cell_type": "code",
      "source": [
        "fig, axs = plt.subplots(1, 2, figsize=(8, 4))\n",
        "axs[0].imshow(image)\n",
        "axs[0].set_title(\"Original Image\")\n",
        "axs[1].imshow(brightened_image)\n",
        "axs[1].set_title(\"Brightened Image\")\n",
        "for ax in axs:\n",
        "    ax.axis('off')\n",
        "plt.tight_layout()\n",
        "plt.show()"
      ],
      "metadata": {
        "colab": {
          "base_uri": "https://localhost:8080/",
          "height": 420
        },
        "id": "mv8ggllLB745",
        "outputId": "63c23d65-1cea-4881-e810-2c48c0ac8874"
      },
      "execution_count": null,
      "outputs": [
        {
          "output_type": "display_data",
          "data": {
            "text/plain": [
              "<Figure size 800x400 with 2 Axes>"
            ],
            "image/png": "[encoded data removed]"
          },
          "metadata": {}
        }
      ]
    }
  ]
}