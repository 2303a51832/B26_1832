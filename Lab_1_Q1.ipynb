{
  "nbformat": 4,
  "nbformat_minor": 0,
  "metadata": {
    "colab": {
      "provenance": [],
      "authorship_tag": "ABX9TyNOYV4llWy55mcOzjfaI4ME",
      "include_colab_link": true
    },
    "kernelspec": {
      "name": "python3",
      "display_name": "Python 3"
    },
    "language_info": {
      "name": "python"
    }
  },
  "cells": [
    {
      "cell_type": "markdown",
      "metadata": {
        "id": "view-in-github",
        "colab_type": "text"
      },
      "source": [
        "<a href=\"https://colab.research.google.com/github/2303a51832/B26_1832/blob/main/Lab_1_Q1.ipynb\" target=\"_parent\"><img src=\"https://colab.research.google.com/assets/colab-badge.svg\" alt=\"Open In Colab\"/></a>"
      ]
    },
    {
      "cell_type": "code",
      "execution_count": 1,
      "metadata": {
        "id": "wKBlm19Qu3MZ"
      },
      "outputs": [],
      "source": [
        "def factorial(n):\n",
        "    if n == 0 or n == 1:\n",
        "        return 1\n",
        "    else:\n",
        "        return n * factorial(n - 1)\n",
        "\n"
      ]
    },
    {
      "cell_type": "code",
      "source": [
        "def permutation(n, r):\n",
        "    if n < r:\n",
        "        print(\"Invalid input! n must be greater than or equal to r.\")\n",
        "        return None\n",
        "    return factorial(n) // factorial(n - r)\n",
        "\n"
      ],
      "metadata": {
        "id": "DSmMUyBTu7gQ"
      },
      "execution_count": 2,
      "outputs": []
    },
    {
      "cell_type": "code",
      "source": [
        "def show_permutation_steps(n, r):\n",
        "    print(f\"\\nCalculating {n}P{r}:\")\n",
        "    print(f\"Formula: {n}P{r} = {n}! / (n-{r})!\")\n",
        "    print(f\"{n}! = {factorial(n)}\")\n",
        "    print(f\"({n}-{r})! = {factorial(n-r)}\")\n",
        "    print(f\"Result = {factorial(n)} / {factorial(n-r)} = {permutation(n, r)}\\n\")\n",
        "\n"
      ],
      "metadata": {
        "id": "XSYk_CVPu-zx"
      },
      "execution_count": 3,
      "outputs": []
    },
    {
      "cell_type": "code",
      "source": [
        "if __name__ == \"__main__\":\n",
        "    n = int(input(\"Enter total number of people/items (n): \"))\n",
        "    r = int(input(\"Enter number of places (r): \"))\n",
        "\n",
        "    result = permutation(n, r)\n",
        "    if result is not None:\n",
        "        show_permutation_steps(n, r)\n",
        "        print(f\"Permutation {n}P{r} = {result}\")"
      ],
      "metadata": {
        "colab": {
          "base_uri": "https://localhost:8080/"
        },
        "id": "D-HfAVnPvFh5",
        "outputId": "92d7391e-4bfe-4f12-cf4a-fbb9b5ba404a"
      },
      "execution_count": 4,
      "outputs": [
        {
          "output_type": "stream",
          "name": "stdout",
          "text": [
            "Enter total number of people/items (n): 5\n",
            "Enter number of places (r): 2\n",
            "\n",
            "Calculating 5P2:\n",
            "Formula: 5P2 = 5! / (n-2)!\n",
            "5! = 120\n",
            "(5-2)! = 6\n",
            "Result = 120 / 6 = 20\n",
            "\n",
            "Permutation 5P2 = 20\n"
          ]
        }
      ]
    }
  ]
}