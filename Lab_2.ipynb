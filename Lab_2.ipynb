{
  "nbformat": 4,
  "nbformat_minor": 0,
  "metadata": {
    "colab": {
      "provenance": [],
      "authorship_tag": "ABX9TyOMENDqGGZKdtXbxCjfdZpT",
      "include_colab_link": true
    },
    "kernelspec": {
      "name": "python3",
      "display_name": "Python 3"
    },
    "language_info": {
      "name": "python"
    }
  },
  "cells": [
    {
      "cell_type": "markdown",
      "metadata": {
        "id": "view-in-github",
        "colab_type": "text"
      },
      "source": [
        "<a href=\"https://colab.research.google.com/github/2303a51832/B26_1832/blob/main/Lab_2.ipynb\" target=\"_parent\"><img src=\"https://colab.research.google.com/assets/colab-badge.svg\" alt=\"Open In Colab\"/></a>"
      ]
    },
    {
      "cell_type": "code",
      "execution_count": 1,
      "metadata": {
        "colab": {
          "base_uri": "https://localhost:8080/"
        },
        "id": "cNDIYsilK5J7",
        "outputId": "e2de6932-3489-449e-99ad-144868cd9df3"
      },
      "outputs": [
        {
          "output_type": "stream",
          "name": "stdout",
          "text": [
            "Student Marks:\n",
            " [[85 90 78]\n",
            " [72 88 91]\n",
            " [89 76 65]\n",
            " [95 92 98]\n",
            " [60 70 80]]\n"
          ]
        }
      ],
      "source": [
        "# @title  Create a 2D NumPy array for student marks using 3 subjects\n",
        "import numpy as np\n",
        "\n",
        "\n",
        "marks = np.array([\n",
        "    [85, 90, 78],\n",
        "    [72, 88, 91],\n",
        "    [89, 76, 65],\n",
        "    [95, 92, 98],\n",
        "    [60, 70, 80]\n",
        "])\n",
        "\n",
        "print(\"Student Marks:\\n\", marks)\n"
      ]
    },
    {
      "cell_type": "code",
      "source": [
        "# @title Calculate average, minimum, and maximum marks (student-wise and subject-wise)\n",
        "print(\"Student Marks:\\n\", marks)\n",
        "\n",
        "average_per_student = np.mean(marks, axis=1)\n",
        "average_per_subject = np.mean(marks, axis=0)\n",
        "\n",
        "min_per_student = np.min(marks, axis=1)\n",
        "max_per_student = np.max(marks, axis=1)\n",
        "\n",
        "print(\"\\nAverage marks per student:\", average_per_student)\n",
        "print(\"Average marks per subject:\", average_per_subject)\n",
        "\n",
        "print(\"Minimum marks per student:\", min_per_student)\n",
        "print(\"Maximum marks per student:\", max_per_student)"
      ],
      "metadata": {
        "colab": {
          "base_uri": "https://localhost:8080/"
        },
        "id": "-LzPU1k1QWnT",
        "outputId": "77005fd8-7c1a-4dea-867c-856a2341b3bc"
      },
      "execution_count": 2,
      "outputs": [
        {
          "output_type": "stream",
          "name": "stdout",
          "text": [
            "Student Marks:\n",
            " [[85 90 78]\n",
            " [72 88 91]\n",
            " [89 76 65]\n",
            " [95 92 98]\n",
            " [60 70 80]]\n",
            "\n",
            "Average marks per student: [84.33333333 83.66666667 76.66666667 95.         70.        ]\n",
            "Average marks per subject: [80.2 83.2 82.4]\n",
            "Minimum marks per student: [78 72 65 92 60]\n",
            "Maximum marks per student: [90 91 89 98 80]\n"
          ]
        }
      ]
    },
    {
      "cell_type": "code",
      "source": [
        "# @title  Slicing: Retrieve marks of Student 3 (index 2)\n",
        "student_3_marks = marks[2]\n",
        "print(\"\\nMarks of Student 3:\", student_3_marks)\n"
      ],
      "metadata": {
        "colab": {
          "base_uri": "https://localhost:8080/"
        },
        "id": "zItGxKL1Qm_k",
        "outputId": "0f9147c4-e01b-43a2-924c-d626e8540351"
      },
      "execution_count": 3,
      "outputs": [
        {
          "output_type": "stream",
          "name": "stdout",
          "text": [
            "\n",
            "Marks of Student 3: [89 76 65]\n"
          ]
        }
      ]
    },
    {
      "cell_type": "code",
      "source": [
        "# @title Boolean indexing: Find students who scored above 80 in any subject\n",
        "above_80 = marks > 80\n",
        "print(\"\\nBoolean mask of marks > 80:\\n\", above_80)"
      ],
      "metadata": {
        "colab": {
          "base_uri": "https://localhost:8080/"
        },
        "id": "QwgvCqmKQsYN",
        "outputId": "d6543a4e-48cc-4538-adc4-2be7d5e8ffa1"
      },
      "execution_count": 4,
      "outputs": [
        {
          "output_type": "stream",
          "name": "stdout",
          "text": [
            "\n",
            "Boolean mask of marks > 80:\n",
            " [[ True  True False]\n",
            " [False  True  True]\n",
            " [ True False False]\n",
            " [ True  True  True]\n",
            " [False False False]]\n"
          ]
        }
      ]
    },
    {
      "cell_type": "code",
      "source": [
        "students_above_80 = np.any(marks > 80, axis=1)\n",
        "print(\"Students scoring above 80 in any subject:\", students_above_80)"
      ],
      "metadata": {
        "colab": {
          "base_uri": "https://localhost:8080/"
        },
        "id": "gOyDr3swQxxR",
        "outputId": "59d0f978-12f0-40f6-d14a-d9d0b4493b57"
      },
      "execution_count": 8,
      "outputs": [
        {
          "output_type": "stream",
          "name": "stdout",
          "text": [
            "Students scoring above 80 in any subject: [ True  True  True  True False]\n"
          ]
        }
      ]
    },
    {
      "cell_type": "code",
      "source": [
        "marks_above_80 = marks[students_above_80]\n",
        "print(\"Marks of students scoring above 80 in any subject:\\n\", marks_above_80)\n"
      ],
      "metadata": {
        "colab": {
          "base_uri": "https://localhost:8080/"
        },
        "id": "m4WtqZGqQ3XC",
        "outputId": "b47b4301-1d57-413b-f887-66ecc60c627b"
      },
      "execution_count": 7,
      "outputs": [
        {
          "output_type": "stream",
          "name": "stdout",
          "text": [
            "Marks of students scoring above 80 in any subject:\n",
            " [[85 90 78]\n",
            " [72 88 91]\n",
            " [89 76 65]\n",
            " [95 92 98]]\n"
          ]
        }
      ]
    },
    {
      "cell_type": "code",
      "source": [
        "# @title Reshape array to observe subject-wise performance\n",
        "subject_wise = marks.T\n",
        "print(\"\\nSubject-wise marks (rows: subjects, cols: students):\\n\", subject_wise)\n",
        "\n"
      ],
      "metadata": {
        "colab": {
          "base_uri": "https://localhost:8080/"
        },
        "id": "f1FAyNniTa82",
        "outputId": "4be030c0-ecb7-4832-bcf9-e45ec429a328"
      },
      "execution_count": 9,
      "outputs": [
        {
          "output_type": "stream",
          "name": "stdout",
          "text": [
            "\n",
            "Subject-wise marks (rows: subjects, cols: students):\n",
            " [[85 72 89 95 60]\n",
            " [90 88 76 92 70]\n",
            " [78 91 65 98 80]]\n"
          ]
        }
      ]
    },
    {
      "cell_type": "code",
      "source": [
        "# @title Comment on the observed results\n",
        "print(\"\\n--- Observations ---\")\n",
        "print(\"• Student 4 has the highest overall scores across all subjects.\")\n",
        "print(\"• Math and Science have higher average scores compared to English.\")\n",
        "print(\"• Most students scored above 80 in at least one subject.\")\n",
        "print(\"• Reshaping the array helps to quickly analyze which subject has consistent high or low scores.\")"
      ],
      "metadata": {
        "colab": {
          "base_uri": "https://localhost:8080/"
        },
        "id": "Zejh9MiiQ-fk",
        "outputId": "a6f690cc-55cd-4919-a7b2-c46b687d27d4"
      },
      "execution_count": 6,
      "outputs": [
        {
          "output_type": "stream",
          "name": "stdout",
          "text": [
            "\n",
            "--- Observations ---\n",
            "• Student 4 has the highest overall scores across all subjects.\n",
            "• Math and Science have higher average scores compared to English.\n",
            "• Most students scored above 80 in at least one subject.\n",
            "• Reshaping the array helps to quickly analyze which subject has consistent high or low scores.\n"
          ]
        }
      ]
    }
  ]
}